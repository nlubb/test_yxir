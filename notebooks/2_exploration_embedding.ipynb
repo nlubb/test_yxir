{
 "cells": [
  {
   "cell_type": "markdown",
   "id": "29a1d366-13e8-4f82-9e26-2eb7c66700e4",
   "metadata": {},
   "source": [
    "# Etape 2 : Modèle de base\n",
    "\n",
    "- Construction d'une baseline Zero-Shot a partir d'un modèle LLM\n",
    "- Finetuning de ce modèle à partir du dataset (contrastive loss)"
   ]
  },
  {
   "cell_type": "code",
   "execution_count": 1,
   "id": "df4db57f-7039-4ef1-a6b7-c2d94c4ccbaa",
   "metadata": {},
   "outputs": [
    {
     "name": "stderr",
     "output_type": "stream",
     "text": [
      "/Users/mbp004/dev/test_yxir/yxir/lib/python3.11/site-packages/threadpoolctl.py:1214: RuntimeWarning: \n",
      "Found Intel OpenMP ('libiomp') and LLVM OpenMP ('libomp') loaded at\n",
      "the same time. Both libraries are known to be incompatible and this\n",
      "can cause random crashes or deadlocks on Linux when loaded in the\n",
      "same Python program.\n",
      "Using threadpoolctl may cause crashes or deadlocks. For more\n",
      "information and possible workarounds, please see\n",
      "    https://github.com/joblib/threadpoolctl/blob/master/multiple_openmp.md\n",
      "\n",
      "  warnings.warn(msg, RuntimeWarning)\n"
     ]
    }
   ],
   "source": [
    "import json\n",
    "import matplotlib.pyplot as plt\n",
    "from tqdm import tqdm\n",
    "import numpy as np\n",
    "import pickle\n",
    "\n",
    "from sentence_transformers import SentenceTransformer\n",
    "from sentence_transformers.util import cos_sim\n",
    "from sentence_transformers.quantization import quantize_embeddings\n",
    "from sentence_transformers import losses\n",
    "from sentence_transformers.readers import InputExample\n",
    "from torch.utils.data import DataLoader"
   ]
  },
  {
   "cell_type": "markdown",
   "id": "4aa0688c-462f-4dab-8eee-81c668840816",
   "metadata": {},
   "source": [
    "### Methode Zero-Shot\n",
    "\n",
    "On prend un modele du MTEB leaderboard pour realiser les embeddings de documents\n",
    "On teste le modele suivant : mxbai-embed-large-v1, proposé par mixedbread ai. Le modèle a été entrainé sur la tache de STS (Semantic Textual Similarity)"
   ]
  },
  {
   "cell_type": "code",
   "execution_count": 2,
   "id": "4e8bd161-fdac-4f60-96ff-87582bdab985",
   "metadata": {},
   "outputs": [
    {
     "name": "stderr",
     "output_type": "stream",
     "text": [
      "/Users/mbp004/dev/test_yxir/yxir/lib/python3.11/site-packages/huggingface_hub/file_download.py:1132: FutureWarning: `resume_download` is deprecated and will be removed in version 1.0.0. Downloads always resume when possible. If you want to force a new download, use `force_download=True`.\n",
      "  warnings.warn(\n"
     ]
    }
   ],
   "source": [
    "# 1. Specify preffered dimensions\n",
    "dimensions = 512\n",
    "\n",
    "# 2. load model\n",
    "model_name = 'intfloat/e5-small-v2'\n",
    "# model_name = \"mixedbread-ai/mxbai-embed-large-v1\"\n",
    "model = SentenceTransformer(model_name, truncate_dim=dimensions)\n"
   ]
  },
  {
   "cell_type": "code",
   "execution_count": 3,
   "id": "56a1f0a7-a7cf-4040-9308-d6fe2c21967a",
   "metadata": {},
   "outputs": [
    {
     "name": "stdout",
     "output_type": "stream",
     "text": [
      "similarities: tensor([[0.8732, 0.8448, 0.6409, 0.7452]])\n"
     ]
    }
   ],
   "source": [
    "# Code utilisé sur Hugging Face\n",
    "# For retrieval you need to pass this prompt.\n",
    "query = 'Represent this sentence for searching relevant passages: A man is eating a piece of bread'\n",
    "\n",
    "docs = [\n",
    "    query,\n",
    "    \"A man is eating food.\",\n",
    "    \"A man is eating pasta.\",\n",
    "    \"The girl is carrying a baby.\",\n",
    "    \"A man is riding a horse.\",\n",
    "]\n",
    "\n",
    "# 2. Encode\n",
    "embeddings = model.encode(docs)\n",
    "\n",
    "# Optional: Quantize the embeddings\n",
    "binary_embeddings = quantize_embeddings(embeddings, precision=\"ubinary\")\n",
    "\n",
    "similarities = cos_sim(embeddings[0], embeddings[1:])\n",
    "print('similarities:', similarities)"
   ]
  },
  {
   "cell_type": "markdown",
   "id": "94310c98-4bb9-40ed-ae31-5fe58cafa4ad",
   "metadata": {},
   "source": [
    "### Experience sur le dataset big_patent\n",
    "\n",
    "On calcule les embeddings brutalement sur les contenus des brevets, abstracts et sur les queries.\n",
    "Le but est de voir ici si la similarité est plus grande entre la query et l'exemple positif qu'entre la query et le sample négatif"
   ]
  },
  {
   "cell_type": "code",
   "execution_count": 4,
   "id": "ffbbd6df-039c-4042-9ab1-efe5a092d75b",
   "metadata": {},
   "outputs": [],
   "source": [
    "with open('/Users/mbp004/dev/test_yxir/data/dataset_big_patent_v1.json') as f:\n",
    "    data = json.load(f)"
   ]
  },
  {
   "cell_type": "code",
   "execution_count": 5,
   "id": "3c2e6f6f-9c00-4796-9ad9-a73d28c5806b",
   "metadata": {},
   "outputs": [
    {
     "name": "stderr",
     "output_type": "stream",
     "text": [
      "Calcul des embeddings initiaux: 100%|███████████████████████████████████████████████████████████████████████████████████████████████████████████████████████████████████| 499/499 [06:23<00:00,  1.30it/s]\n"
     ]
    }
   ],
   "source": [
    "list_all_embeddings = []\n",
    "for i in tqdm(range(len(data)), desc =\"Calcul des embeddings initiaux\"):\n",
    "    query = data[i]['query']\n",
    "    pos_text = data[i]['pos']\n",
    "    negative_text = data[i]['negative']\n",
    "    \n",
    "    docs = [\n",
    "        query,\n",
    "        pos_text,\n",
    "        negative_text\n",
    "    ]\n",
    "    \n",
    "    embeddings = model.encode(docs)\n",
    "    list_all_embeddings.append(embeddings)"
   ]
  },
  {
   "cell_type": "code",
   "execution_count": 13,
   "id": "860cc6b6-5d94-4cf6-93cd-85da6c2b403f",
   "metadata": {},
   "outputs": [],
   "source": [
    "dic_all_embeddings = {'embeddings': list_all_embeddings}\n",
    "with open('../data/list_all_embeddings_e5-small-v2.pickle', 'wb') as fh:\n",
    "    pickle.dump(dic_all_embeddings, fh)\n",
    "    fh.close()"
   ]
  },
  {
   "cell_type": "code",
   "execution_count": 7,
   "id": "9a4b0b6e-a717-4670-be83-a7fee21d83d0",
   "metadata": {},
   "outputs": [],
   "source": [
    "with open('../data/list_all_embeddings_e5-small-v2.pickle', 'rb') as fh:\n",
    "    dic_all_embeddings = pickle.load(fh)\n",
    "    fh.close()\n",
    "list_all_embeddings = dic_all_embeddings['embeddings']"
   ]
  },
  {
   "cell_type": "code",
   "execution_count": 8,
   "id": "cc2425ca-9684-43e6-baaa-d1356ac176b2",
   "metadata": {},
   "outputs": [
    {
     "name": "stdout",
     "output_type": "stream",
     "text": [
      "Embeddings de documents compatibles avec la query: 370, 74.15 %\n"
     ]
    }
   ],
   "source": [
    "nb_good_embeddings = 0\n",
    "for i in range(len(list_all_embeddings)):\n",
    "    embeddings = list_all_embeddings[i]\n",
    "    similarities = cos_sim(embeddings[0], embeddings[1:])\n",
    "    sim_pos, sim_neg = similarities.flatten()\n",
    "    if sim_pos > sim_neg :\n",
    "        nb_good_embeddings+=1\n",
    "perc_good_embeddings = round(100*nb_good_embeddings/len(list_all_embeddings),2)\n",
    "print('Embeddings de documents compatibles avec la query: {}, {} %'.format(nb_good_embeddings,\n",
    "                                                                           perc_good_embeddings))"
   ]
  },
  {
   "cell_type": "code",
   "execution_count": 9,
   "id": "d3a5c745-4c7b-4e42-a4f1-9178c36a72c0",
   "metadata": {},
   "outputs": [
    {
     "name": "stderr",
     "output_type": "stream",
     "text": [
      "Calcul des similarites: 100%|███████████████████████████████████████████████████████████████████████████████████████████████████████████████████████████████████████████| 998/998 [01:07<00:00, 14.87it/s]\n"
     ]
    },
    {
     "data": {
      "image/png": "[encoded data removed]",
      "text/plain": [
       "<Figure size 480x480 with 1 Axes>"
      ]
     },
     "metadata": {},
     "output_type": "display_data"
    }
   ],
   "source": [
    "# Heatmap sur les similarites entre contenus de brevet\n",
    "list_embeddings_heatmap = []\n",
    "for i in range(len(list_all_embeddings)):\n",
    "    list_embeddings_heatmap.append(list_all_embeddings[i][1])\n",
    "    list_embeddings_heatmap.append(list_all_embeddings[i][2])\n",
    "\n",
    "list_similarities_heatmap = []\n",
    "for i in tqdm(range(len(list_embeddings_heatmap)), desc =\"Calcul des similarites\"):\n",
    "    list_similarities_heatmap_i = []\n",
    "    for j in range(len(list_embeddings_heatmap)):\n",
    "        sim = float(cos_sim(list_embeddings_heatmap[i], list_embeddings_heatmap[j]).flatten()[0])\n",
    "        list_similarities_heatmap_i.append(sim)\n",
    "    list_similarities_heatmap.append(list_similarities_heatmap_i)\n",
    "similarity_matrix = np.array(list_similarities_heatmap)\n",
    "\n",
    "plt.matshow(similarity_matrix[0:50,0:50])\n",
    "plt.show()"
   ]
  },
  {
   "cell_type": "markdown",
   "id": "17557169-c633-4fea-9470-5f1a28563125",
   "metadata": {},
   "source": [
    "Visuellement sur les embeddings de documents, on voit des carrés autour de la diagonale, ce qui traduit la construction du dataset où des questions successives autour du meme theme sont posees"
   ]
  },
  {
   "cell_type": "code",
   "execution_count": 10,
   "id": "198759ec-9118-4819-b104-186d1b591f75",
   "metadata": {},
   "outputs": [
    {
     "name": "stderr",
     "output_type": "stream",
     "text": [
      "Calcul des similarites sur les queries: 100%|███████████████████████████████████████████████████████████████████████████████████████████████████████████████████████████| 499/499 [00:16<00:00, 30.54it/s]\n"
     ]
    },
    {
     "data": {
      "image/png": "[encoded data removed]",
      "text/plain": [
       "<Figure size 480x480 with 1 Axes>"
      ]
     },
     "metadata": {},
     "output_type": "display_data"
    }
   ],
   "source": [
    "# Heatmap sur les similarites entre queries\n",
    "list_all_embeddings_queries = []\n",
    "for i in range(len(list_all_embeddings)):\n",
    "    list_all_embeddings_queries.append(list_all_embeddings[i][0])\n",
    "\n",
    "list_similarities_queries_heatmap = []\n",
    "for i in tqdm(range(len(list_all_embeddings_queries)), desc =\"Calcul des similarites sur les queries\"):\n",
    "    list_similarities_heatmap_i = []\n",
    "    for j in range(len(list_all_embeddings_queries)):\n",
    "        sim = float(cos_sim(list_all_embeddings_queries[i], list_all_embeddings_queries[j]).flatten()[0])\n",
    "        list_similarities_heatmap_i.append(sim)\n",
    "    list_similarities_queries_heatmap.append(list_similarities_heatmap_i)\n",
    "similarity_matrix_queries = np.array(list_similarities_queries_heatmap)\n",
    "\n",
    "plt.matshow(similarity_matrix_queries[0:50,0:50])\n",
    "plt.show()"
   ]
  },
  {
   "cell_type": "markdown",
   "id": "6e70eb29-9400-4e41-8b12-2c5f2599d51a",
   "metadata": {},
   "source": [
    "On voit un peu cet effet sur les embeddings des queries meme si c'est moins flagrant.\n",
    "A priori ceci est du à : \n",
    "- la taille des queries qui est tres faible donc plus facile a disciminer\n",
    "\n",
    "Les pistes que ça nous amène à regarder : \n",
    "- restreindre les documents a certaines sections, pour eviter que le vecteur d'embedding soit noyé dans pleins d'informations\n",
    "- finetuner le modele avec les données de brevet"
   ]
  },
  {
   "cell_type": "markdown",
   "id": "07c860ae-e1a2-49bd-828b-1ef30b53810d",
   "metadata": {},
   "source": [
    "### Performances en retrieval\n",
    "\n",
    "Calcul des performances en retrieval sur une liste d'embeddings de type : \n",
    "[[emb_query, emb_pos, emb_neg]...]\n",
    "On cherche a calculer : \n",
    "- le top_K_accuracy sur les labels positifs (a maximiser)\n",
    "- le top_K_accuracy sur les labels negatifs (a minimiser)"
   ]
  },
  {
   "cell_type": "code",
   "execution_count": 35,
   "id": "293b7772-73aa-4abb-9990-ea721eece8da",
   "metadata": {},
   "outputs": [
    {
     "name": "stderr",
     "output_type": "stream",
     "text": [
      "Calcul du top_K_accuracy score: 100%|███████████████████████████████████████████████████████████████████████████████████████████████████████████████████████████████████| 499/499 [00:25<00:00, 19.33it/s]"
     ]
    },
    {
     "name": "stdout",
     "output_type": "stream",
     "text": [
      "acc_K_pos : 0.9338677354709419 (a maximiser)\n",
      "acc_K_neg : 0.7134268537074149 (a minimiser)\n"
     ]
    },
    {
     "name": "stderr",
     "output_type": "stream",
     "text": [
      "\n"
     ]
    }
   ],
   "source": [
    "def compute_top_K_accuracy_score(list_embeddings, K=5):\n",
    "    '''\n",
    "    Fonction pour calculer le top_K_accuracy score a partir d'une liste d'embeddings de type :\n",
    "    [[emb_query, emb_pos, emb_neg]...]\n",
    "    list_embeddings -- list, list des embeddings des query, positive, negative\n",
    "    K -- int, le top K accuracy\n",
    "    '''\n",
    "    list_embeddings_query = [list_embeddings[i][0] for i in range(len(list_all_embeddings))]\n",
    "    list_embeddings_pos = [list_embeddings[i][1] for i in range(len(list_all_embeddings))]\n",
    "    list_embeddings_neg = [list_embeddings[i][2] for i in range(len(list_all_embeddings))]\n",
    "    \n",
    "    nb_pos = 0\n",
    "    nb_neg = 0\n",
    "    for idx in tqdm(range(len(list_embeddings_query)), desc =\"Calcul du top_K_accuracy score\"):\n",
    "        query = list_embeddings_query[idx]\n",
    "        \n",
    "        similarities_pos = cos_sim(query, list_embeddings_pos).flatten().tolist()\n",
    "        similarities_pos = [('pos_{}'.format(i), similarities_pos[i]) for i in range(len(similarities_pos))]\n",
    "        \n",
    "        similarities_neg = cos_sim(query, list_embeddings_neg).flatten().tolist()\n",
    "        similarities_neg = [('neg_{}'.format(i), similarities_neg[i]) for i in range(len(similarities_neg))]\n",
    "        \n",
    "        similarities = similarities_pos+similarities_neg\n",
    "        similarities = sorted(similarities, key = lambda x: -x[1])\n",
    "        top_K_ids = [similarities[i][0] for i in range(K)]\n",
    "        \n",
    "        if 'pos_{}'.format(idx) in top_K_ids:\n",
    "            nb_pos+=1\n",
    "        if 'neg_{}'.format(idx) in top_K_ids:\n",
    "            nb_neg+=1\n",
    "    acc_K_pos = nb_pos/len(list_embeddings)\n",
    "    acc_K_neg = nb_neg/len(list_embeddings)\n",
    "    return acc_K_pos, acc_K_neg\n",
    "\n",
    "acc_K_pos, acc_K_neg = compute_top_K_accuracy_score(list_all_embeddings, K=5)\n",
    "print('acc_K_pos : {} (a maximiser)'.format(acc_K_pos))\n",
    "print('acc_K_neg : {} (a minimiser)'.format(acc_K_neg))"
   ]
  },
  {
   "cell_type": "markdown",
   "id": "91fbe2da-e2bb-44ea-8748-b52f418876b6",
   "metadata": {},
   "source": [
    "### Finetuning du modele\n",
    "\n",
    "On va tenter de finetuner le modele mxbai-embed-large-v1 sur les exemples de brevets"
   ]
  },
  {
   "cell_type": "code",
   "execution_count": 36,
   "id": "63c78b79-4227-4764-a772-476f72e7e3d9",
   "metadata": {},
   "outputs": [],
   "source": [
    "# Construction du dataset pour le finetuning\n",
    "train_examples = []\n",
    "for i in range(len(data)):\n",
    "    anchor = data[i]['query']\n",
    "    pos_example = data[i]['pos']\n",
    "    neg_example = data[i]['negative']\n",
    "    train_examples.append(InputExample(texts=[anchor, pos_example], label=1))\n",
    "    train_examples.append(InputExample(texts=[anchor, neg_example], label=0))\n",
    "\n",
    "train_dataloader = DataLoader(train_examples, shuffle=True, batch_size=2)"
   ]
  },
  {
   "cell_type": "code",
   "execution_count": 37,
   "id": "d47317b4-0251-4454-b0bf-c510cab30fe4",
   "metadata": {},
   "outputs": [
    {
     "data": {
      "application/vnd.jupyter.widget-view+json": {
       "model_id": "f46290ab4e5a4145ae2f1c510cc24416",
       "version_major": 2,
       "version_minor": 0
      },
      "text/plain": [
       "Epoch:   0%|          | 0/10 [00:00<?, ?it/s]"
      ]
     },
     "metadata": {},
     "output_type": "display_data"
    },
    {
     "data": {
      "application/vnd.jupyter.widget-view+json": {
       "model_id": "ba5bf57fd8ab48359116f703905d3715",
       "version_major": 2,
       "version_minor": 0
      },
      "text/plain": [
       "Iteration:   0%|          | 0/499 [00:00<?, ?it/s]"
      ]
     },
     "metadata": {},
     "output_type": "display_data"
    },
    {
     "data": {
      "application/vnd.jupyter.widget-view+json": {
       "model_id": "256e34c59a954de4ae17f3c2656b5b4c",
       "version_major": 2,
       "version_minor": 0
      },
      "text/plain": [
       "Iteration:   0%|          | 0/499 [00:00<?, ?it/s]"
      ]
     },
     "metadata": {},
     "output_type": "display_data"
    },
    {
     "data": {
      "application/vnd.jupyter.widget-view+json": {
       "model_id": "aff09061628347f9948e34d972efc23f",
       "version_major": 2,
       "version_minor": 0
      },
      "text/plain": [
       "Iteration:   0%|          | 0/499 [00:00<?, ?it/s]"
      ]
     },
     "metadata": {},
     "output_type": "display_data"
    },
    {
     "data": {
      "application/vnd.jupyter.widget-view+json": {
       "model_id": "36f79858614249ac9414b445e8021140",
       "version_major": 2,
       "version_minor": 0
      },
      "text/plain": [
       "Iteration:   0%|          | 0/499 [00:00<?, ?it/s]"
      ]
     },
     "metadata": {},
     "output_type": "display_data"
    },
    {
     "data": {
      "application/vnd.jupyter.widget-view+json": {
       "model_id": "78877da1da66442cbb82676bd10bcd18",
       "version_major": 2,
       "version_minor": 0
      },
      "text/plain": [
       "Iteration:   0%|          | 0/499 [00:00<?, ?it/s]"
      ]
     },
     "metadata": {},
     "output_type": "display_data"
    },
    {
     "data": {
      "application/vnd.jupyter.widget-view+json": {
       "model_id": "3b1612077e9d47c9ba70360db6a5d239",
       "version_major": 2,
       "version_minor": 0
      },
      "text/plain": [
       "Iteration:   0%|          | 0/499 [00:00<?, ?it/s]"
      ]
     },
     "metadata": {},
     "output_type": "display_data"
    },
    {
     "data": {
      "application/vnd.jupyter.widget-view+json": {
       "model_id": "388d9af51e584d73a7cee472d6f3da81",
       "version_major": 2,
       "version_minor": 0
      },
      "text/plain": [
       "Iteration:   0%|          | 0/499 [00:00<?, ?it/s]"
      ]
     },
     "metadata": {},
     "output_type": "display_data"
    },
    {
     "data": {
      "application/vnd.jupyter.widget-view+json": {
       "model_id": "f43724ba273344fa8b3e90bfca2b7b9f",
       "version_major": 2,
       "version_minor": 0
      },
      "text/plain": [
       "Iteration:   0%|          | 0/499 [00:00<?, ?it/s]"
      ]
     },
     "metadata": {},
     "output_type": "display_data"
    },
    {
     "data": {
      "application/vnd.jupyter.widget-view+json": {
       "model_id": "e1c1c608c0fe42ac8930da630dd6ac19",
       "version_major": 2,
       "version_minor": 0
      },
      "text/plain": [
       "Iteration:   0%|          | 0/499 [00:00<?, ?it/s]"
      ]
     },
     "metadata": {},
     "output_type": "display_data"
    },
    {
     "data": {
      "application/vnd.jupyter.widget-view+json": {
       "model_id": "3359bca3f3854fcca4822a102bcf014b",
       "version_major": 2,
       "version_minor": 0
      },
      "text/plain": [
       "Iteration:   0%|          | 0/499 [00:00<?, ?it/s]"
      ]
     },
     "metadata": {},
     "output_type": "display_data"
    }
   ],
   "source": [
    "# Training\n",
    "train_loss = losses.ContrastiveLoss(model=model)\n",
    "\n",
    "model.fit(\n",
    "    [(train_dataloader, train_loss)],\n",
    "    epochs=10,\n",
    ")"
   ]
  },
  {
   "cell_type": "code",
   "execution_count": 38,
   "id": "566965cb-a4ed-446a-b909-9d7fb26c0f80",
   "metadata": {},
   "outputs": [
    {
     "name": "stderr",
     "output_type": "stream",
     "text": [
      "Calcul des embeddings apres finetuning: 100%|███████████████████████████████████████████████████████████████████████████████████████████████████████████████████████████| 499/499 [06:20<00:00,  1.31it/s]\n"
     ]
    }
   ],
   "source": [
    "# Recalculer les embeddings\n",
    "list_all_embeddings_finetuning = []\n",
    "for i in tqdm(range(len(data)), desc =\"Calcul des embeddings apres finetuning\"):\n",
    "    query = data[i]['query']\n",
    "    pos_text = data[i]['pos']\n",
    "    negative_text = data[i]['negative']\n",
    "    \n",
    "    docs = [\n",
    "        query,\n",
    "        pos_text,\n",
    "        negative_text\n",
    "    ]\n",
    "    \n",
    "    embeddings = model.encode(docs)\n",
    "    list_all_embeddings_finetuning.append(embeddings)\n",
    "\n",
    "dic_all_embeddings = {'embeddings': list_all_embeddings_finetuning}\n",
    "with open('../data/list_all_embeddings_e5-small-v2_finetuning.pickle', 'wb') as fh:\n",
    "    pickle.dump(dic_all_embeddings, fh)\n",
    "    fh.close()"
   ]
  },
  {
   "cell_type": "code",
   "execution_count": 39,
   "id": "7697d05a-c63f-4582-97ce-88d94219383c",
   "metadata": {},
   "outputs": [
    {
     "name": "stdout",
     "output_type": "stream",
     "text": [
      "Embeddings de documents compatibles avec la query: 499, 100.0 %\n"
     ]
    }
   ],
   "source": [
    "# Bonne classification\n",
    "nb_good_embeddings = 0\n",
    "for i in range(len(list_all_embeddings_finetuning)):\n",
    "    embeddings = list_all_embeddings_finetuning[i]\n",
    "    similarities = cos_sim(embeddings[0], embeddings[1:])\n",
    "    sim_pos, sim_neg = similarities.flatten()\n",
    "    if sim_pos > sim_neg :\n",
    "        nb_good_embeddings+=1\n",
    "perc_good_embeddings = round(100*nb_good_embeddings/len(list_all_embeddings_finetuning),2)\n",
    "print('Embeddings de documents compatibles avec la query: {}, {} %'.format(nb_good_embeddings,\n",
    "                                                                           perc_good_embeddings))"
   ]
  },
  {
   "cell_type": "code",
   "execution_count": 40,
   "id": "b596e8bb-a31b-4a13-b7fb-0a7776acb529",
   "metadata": {},
   "outputs": [
    {
     "name": "stderr",
     "output_type": "stream",
     "text": [
      "Calcul du top_K_accuracy score: 100%|███████████████████████████████████████████████████████████████████████████████████████████████████████████████████████████████████| 499/499 [00:24<00:00, 20.68it/s]"
     ]
    },
    {
     "name": "stdout",
     "output_type": "stream",
     "text": [
      "acc_K_pos : 0.19438877755511022 (a maximiser)\n",
      "acc_K_neg : 0.0 (a minimiser)\n"
     ]
    },
    {
     "name": "stderr",
     "output_type": "stream",
     "text": [
      "\n"
     ]
    }
   ],
   "source": [
    "# top_K_accuracy\n",
    "acc_K_pos, acc_K_neg = compute_top_K_accuracy_score(list_all_embeddings_finetuning, K=5)\n",
    "print('acc_K_pos : {} (a maximiser)'.format(acc_K_pos))\n",
    "print('acc_K_neg : {} (a minimiser)'.format(acc_K_neg))"
   ]
  },
  {
   "cell_type": "code",
   "execution_count": null,
   "id": "41be0f64-22e9-4f6a-aea3-c9ab933e9c96",
   "metadata": {},
   "outputs": [],
   "source": []
  },
  {
   "cell_type": "code",
   "execution_count": null,
   "id": "222e215f-affb-44d1-8789-4bcf9119593e",
   "metadata": {},
   "outputs": [],
   "source": []
  }
 ],
 "metadata": {
  "kernelspec": {
   "display_name": "yxir",
   "language": "python",
   "name": "yxir"
  },
  "language_info": {
   "codemirror_mode": {
    "name": "ipython",
    "version": 3
   },
   "file_extension": ".py",
   "mimetype": "text/x-python",
   "name": "python",
   "nbconvert_exporter": "python",
   "pygments_lexer": "ipython3",
   "version": "3.11.9"
  }
 },
 "nbformat": 4,
 "nbformat_minor": 5
}
